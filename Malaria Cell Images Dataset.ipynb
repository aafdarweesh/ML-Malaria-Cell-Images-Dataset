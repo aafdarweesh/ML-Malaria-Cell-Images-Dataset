{
 "cells": [
  {
   "cell_type": "code",
   "execution_count": 15,
   "metadata": {
    "colab": {},
    "colab_type": "code",
    "id": "NWT4owzs1405",
    "scrolled": false
   },
   "outputs": [],
   "source": [
    "import os\n",
    "import cv2\n",
    "import tensorflow as tf\n",
    "import numpy as np # linear algebra\n",
    "import pandas as pd # data processing, CSV file I/O (e.g. pd.read_csv)\n",
    "import matplotlib.pyplot as plt\n",
    "import seaborn as sns\n",
    "\n",
    "from tensorflow.keras.datasets import cifar10\n",
    "from tensorflow.keras.preprocessing.image import ImageDataGenerator\n",
    "from tensorflow.keras.models import Sequential\n",
    "from tensorflow.keras.layers import Dense, Dropout, Activation, Flatten\n",
    "from tensorflow.keras.layers import Conv2D, MaxPooling2D\n",
    "\n",
    "from tensorflow import keras\n",
    "from tensorflow.keras import Model, Input, optimizers\n",
    "\n",
    "from PIL import Image\n",
    "\n",
    "from sklearn.utils import shuffle\n",
    "from sklearn.model_selection import train_test_split\n",
    "\n"
   ]
  },
  {
   "cell_type": "code",
   "execution_count": 16,
   "metadata": {
    "colab": {
     "base_uri": "https://localhost:8080/",
     "height": 191
    },
    "colab_type": "code",
    "executionInfo": {
     "elapsed": 3602,
     "status": "error",
     "timestamp": 1557761874041,
     "user": {
      "displayName": "Ahmed Darwish",
      "photoUrl": "https://lh5.googleusercontent.com/-9G5Teoy7GwU/AAAAAAAAAAI/AAAAAAAAFA0/xeuAVn1CwQw/s64/photo.jpg",
      "userId": "04776831358185887360"
     },
     "user_tz": -180
    },
    "id": "Qk3dDlZq141F",
    "outputId": "0280149d-6300-4e44-c276-77f5e6e48462"
   },
   "outputs": [
    {
     "name": "stdout",
     "output_type": "stream",
     "text": [
      "['Parasitized', 'Uninfected']\n"
     ]
    }
   ],
   "source": [
    "import os\n",
    "print(os.listdir(\"./cell-images/cell_images\"))"
   ]
  },
  {
   "cell_type": "code",
   "execution_count": 17,
   "metadata": {
    "colab": {},
    "colab_type": "code",
    "id": "nKSwEKLq141O"
   },
   "outputs": [],
   "source": [
    "infected = os.listdir('./cell-images/cell_images/Parasitized/') \n",
    "uninfected = os.listdir('./cell-images/cell_images/Uninfected/')"
   ]
  },
  {
   "cell_type": "code",
   "execution_count": 18,
   "metadata": {
    "colab": {},
    "colab_type": "code",
    "id": "JibKW8aZ141V"
   },
   "outputs": [
    {
     "name": "stdout",
     "output_type": "stream",
     "text": [
      "\n",
      "\n"
     ]
    }
   ],
   "source": [
    "#retrieving the images and storing them in the arrays\n",
    "data = []\n",
    "labels = []\n",
    "\n",
    "for i in infected:\n",
    "    try:\n",
    "    \n",
    "        image = cv2.imread(\"./cell-images/cell_images/Parasitized/\"+i)\n",
    "        image_array = Image.fromarray(image , 'RGB')\n",
    "        resize_img = image_array.resize((64 , 64))\n",
    "        \n",
    "        data.append(np.array(resize_img))\n",
    "        \n",
    "        labels.append(1)\n",
    "        \n",
    "        \n",
    "    except AttributeError:\n",
    "        print('')\n",
    "    \n",
    "for u in uninfected:\n",
    "    try:\n",
    "        \n",
    "        image = cv2.imread(\"./cell-images/cell_images/Uninfected/\"+u)\n",
    "        image_array = Image.fromarray(image , 'RGB')\n",
    "        resize_img = image_array.resize((64 , 64))\n",
    "        \n",
    "        data.append(np.array(resize_img))\n",
    "        \n",
    "        labels.append(0)\n",
    "        \n",
    "    except AttributeError:\n",
    "        print('')"
   ]
  },
  {
   "cell_type": "code",
   "execution_count": 19,
   "metadata": {
    "colab": {},
    "colab_type": "code",
    "id": "yWxl2qMR141c"
   },
   "outputs": [
    {
     "data": {
      "text/plain": [
       "((27558, 64, 64, 3), (27558,))"
      ]
     },
     "execution_count": 19,
     "metadata": {},
     "output_type": "execute_result"
    }
   ],
   "source": [
    "cells = np.array(data)\n",
    "labels = np.array(labels)\n",
    "cells.shape,labels.shape"
   ]
  },
  {
   "cell_type": "code",
   "execution_count": 20,
   "metadata": {
    "colab": {},
    "colab_type": "code",
    "id": "yEHCT6qx141j"
   },
   "outputs": [],
   "source": [
    "#Shuffle the data\n",
    "cells,labels = shuffle(cells,labels)\n"
   ]
  },
  {
   "cell_type": "code",
   "execution_count": 21,
   "metadata": {
    "colab": {},
    "colab_type": "code",
    "id": "5V1k9J_v141n"
   },
   "outputs": [],
   "source": [
    "cells = cells.astype(\"float32\")/255\n",
    "labels = tf.keras.utils.to_categorical(labels)\n"
   ]
  },
  {
   "cell_type": "code",
   "execution_count": 22,
   "metadata": {
    "colab": {},
    "colab_type": "code",
    "id": "YOAYJ2S7141s"
   },
   "outputs": [
    {
     "data": {
      "text/plain": [
       "((18463, 64, 64, 3), (9095, 64, 64, 3), (18463, 2), (9095, 2))"
      ]
     },
     "execution_count": 22,
     "metadata": {},
     "output_type": "execute_result"
    }
   ],
   "source": [
    "x_train,x_test,y_train,y_test = train_test_split(cells,labels,test_size=0.33,random_state=45)\n",
    "x_train.shape,x_test.shape,y_train.shape,y_test.shape"
   ]
  },
  {
   "cell_type": "code",
   "execution_count": 23,
   "metadata": {
    "colab": {
     "base_uri": "https://localhost:8080/",
     "height": 246
    },
    "colab_type": "code",
    "executionInfo": {
     "elapsed": 701,
     "status": "error",
     "timestamp": 1557761877410,
     "user": {
      "displayName": "Ahmed Darwish",
      "photoUrl": "https://lh5.googleusercontent.com/-9G5Teoy7GwU/AAAAAAAAAAI/AAAAAAAAFA0/xeuAVn1CwQw/s64/photo.jpg",
      "userId": "04776831358185887360"
     },
     "user_tz": -180
    },
    "id": "G36lNrtu1411",
    "outputId": "8fb28577-ea6c-4c7c-f95c-93df412b40e5"
   },
   "outputs": [
    {
     "name": "stdout",
     "output_type": "stream",
     "text": [
      "WARNING:tensorflow:From C:\\Users\\Administrator\\Anaconda3\\lib\\site-packages\\tensorflow\\python\\ops\\resource_variable_ops.py:435: colocate_with (from tensorflow.python.framework.ops) is deprecated and will be removed in a future version.\n",
      "Instructions for updating:\n",
      "Colocations handled automatically by placer.\n",
      "_________________________________________________________________\n",
      "Layer (type)                 Output Shape              Param #   \n",
      "=================================================================\n",
      "conv2d (Conv2D)              (None, 62, 62, 64)        1792      \n",
      "_________________________________________________________________\n",
      "activation (Activation)      (None, 62, 62, 64)        0         \n",
      "_________________________________________________________________\n",
      "max_pooling2d (MaxPooling2D) (None, 31, 31, 64)        0         \n",
      "_________________________________________________________________\n",
      "conv2d_1 (Conv2D)            (None, 29, 29, 64)        36928     \n",
      "_________________________________________________________________\n",
      "activation_1 (Activation)    (None, 29, 29, 64)        0         \n",
      "_________________________________________________________________\n",
      "max_pooling2d_1 (MaxPooling2 (None, 14, 14, 64)        0         \n",
      "_________________________________________________________________\n",
      "flatten (Flatten)            (None, 12544)             0         \n",
      "_________________________________________________________________\n",
      "dense (Dense)                (None, 32)                401440    \n",
      "_________________________________________________________________\n",
      "dense_1 (Dense)              (None, 2)                 66        \n",
      "_________________________________________________________________\n",
      "activation_2 (Activation)    (None, 2)                 0         \n",
      "=================================================================\n",
      "Total params: 440,226\n",
      "Trainable params: 440,226\n",
      "Non-trainable params: 0\n",
      "_________________________________________________________________\n"
     ]
    }
   ],
   "source": [
    "\n",
    "\n",
    "model = Sequential()\n",
    "\n",
    "model.add(Conv2D(64, (3, 3), input_shape=x_train.shape[1:]))\n",
    "model.add(Activation('relu'))\n",
    "model.add(MaxPooling2D(pool_size=(2, 2)))\n",
    "\n",
    "model.add(Conv2D(64, (3, 3)))\n",
    "model.add(Activation('relu'))\n",
    "model.add(MaxPooling2D(pool_size=(2, 2)))\n",
    "\n",
    "model.add(Flatten())  # this converts our 3D feature maps to 1D feature vectors\n",
    "\n",
    "model.add(Dense(32))\n",
    "\n",
    "model.add(Dense(2))\n",
    "model.add(Activation('softmax'))\n",
    "\n",
    "model.compile(loss='categorical_crossentropy',\n",
    "              optimizer='adam',\n",
    "              metrics=['accuracy'])\n",
    "\n",
    "model.summary()"
   ]
  },
  {
   "cell_type": "code",
   "execution_count": 24,
   "metadata": {
    "colab": {
     "base_uri": "https://localhost:8080/",
     "height": 172
    },
    "colab_type": "code",
    "executionInfo": {
     "elapsed": 827,
     "status": "error",
     "timestamp": 1557761878352,
     "user": {
      "displayName": "Ahmed Darwish",
      "photoUrl": "https://lh5.googleusercontent.com/-9G5Teoy7GwU/AAAAAAAAAAI/AAAAAAAAFA0/xeuAVn1CwQw/s64/photo.jpg",
      "userId": "04776831358185887360"
     },
     "user_tz": -180
    },
    "id": "BM5_8mAM142C",
    "outputId": "06b461da-d623-486c-b2ea-536deaf3b918"
   },
   "outputs": [
    {
     "name": "stdout",
     "output_type": "stream",
     "text": [
      "Train on 15693 samples, validate on 2770 samples\n",
      "WARNING:tensorflow:From C:\\Users\\Administrator\\Anaconda3\\lib\\site-packages\\tensorflow\\python\\ops\\math_ops.py:3066: to_int32 (from tensorflow.python.ops.math_ops) is deprecated and will be removed in a future version.\n",
      "Instructions for updating:\n",
      "Use tf.cast instead.\n",
      "Epoch 1/8\n",
      "15693/15693 [==============================] - 142s 9ms/sample - loss: 0.6770 - acc: 0.5819 - val_loss: 0.6408 - val_acc: 0.6289\n",
      "Epoch 2/8\n",
      "15693/15693 [==============================] - 134s 9ms/sample - loss: 0.5882 - acc: 0.7063 - val_loss: 0.7144 - val_acc: 0.8473\n",
      "Epoch 3/8\n",
      "15693/15693 [==============================] - 193s 12ms/sample - loss: 0.3069 - acc: 0.8943 - val_loss: 0.2269 - val_acc: 0.9245\n",
      "Epoch 4/8\n",
      "15693/15693 [==============================] - 198s 13ms/sample - loss: 0.1925 - acc: 0.9356 - val_loss: 0.2243 - val_acc: 0.9332\n",
      "Epoch 5/8\n",
      "15693/15693 [==============================] - 196s 12ms/sample - loss: 0.1637 - acc: 0.9437 - val_loss: 0.1959 - val_acc: 0.9343\n",
      "Epoch 6/8\n",
      "15693/15693 [==============================] - 200s 13ms/sample - loss: 0.1480 - acc: 0.9497 - val_loss: 0.1964 - val_acc: 0.9455\n",
      "Epoch 7/8\n",
      "15693/15693 [==============================] - 235s 15ms/sample - loss: 0.1388 - acc: 0.9530 - val_loss: 0.1955 - val_acc: 0.9458\n",
      "Epoch 8/8\n",
      "15693/15693 [==============================] - 210s 13ms/sample - loss: 0.1321 - acc: 0.9558 - val_loss: 0.2227 - val_acc: 0.9419\n"
     ]
    }
   ],
   "source": [
    "history = model.fit(x_train, y_train, batch_size=32, epochs=8, validation_split=0.15)"
   ]
  },
  {
   "cell_type": "code",
   "execution_count": 25,
   "metadata": {
    "colab": {},
    "colab_type": "code",
    "id": "PC42DUEg142J"
   },
   "outputs": [
    {
     "data": {
      "text/plain": [
       "<matplotlib.legend.Legend at 0x2da1a2f5e80>"
      ]
     },
     "execution_count": 25,
     "metadata": {},
     "output_type": "execute_result"
    },
    {
     "data": {
      "image/png": "[encoded data removed]",
      "text/plain": [
       "<Figure size 432x288 with 1 Axes>"
      ]
     },
     "metadata": {
      "needs_background": "light"
     },
     "output_type": "display_data"
    }
   ],
   "source": [
    "plt.plot(history.history['loss'],label='Loss')\n",
    "plt.plot(history.history['val_loss'],label=\"Val Loss\")\n",
    "plt.legend()"
   ]
  },
  {
   "cell_type": "code",
   "execution_count": 26,
   "metadata": {
    "colab": {},
    "colab_type": "code",
    "id": "SbdKMYrn142O"
   },
   "outputs": [
    {
     "name": "stdout",
     "output_type": "stream",
     "text": [
      "9095/9095 [==============================] - 31s 3ms/sample - loss: 0.2068 - acc: 0.9340\n",
      "Test Accuracy:- [0.206830194744027, 0.9340297]\n"
     ]
    }
   ],
   "source": [
    "accuracy  = model.evaluate(x_test,y_test)\n",
    "print(\"Test Accuracy:-\",accuracy)"
   ]
  },
  {
   "cell_type": "code",
   "execution_count": null,
   "metadata": {
    "colab": {},
    "colab_type": "code",
    "id": "CisYnqkS142S"
   },
   "outputs": [],
   "source": []
  }
 ],
 "metadata": {
  "accelerator": "GPU",
  "colab": {
   "name": "Malaria Cell Images Dataset.ipynb",
   "provenance": [],
   "version": "0.3.2"
  },
  "kernelspec": {
   "display_name": "Python 3",
   "language": "python",
   "name": "python3"
  },
  "language_info": {
   "codemirror_mode": {
    "name": "ipython",
    "version": 3
   },
   "file_extension": ".py",
   "mimetype": "text/x-python",
   "name": "python",
   "nbconvert_exporter": "python",
   "pygments_lexer": "ipython3",
   "version": "3.7.3"
  }
 },
 "nbformat": 4,
 "nbformat_minor": 1
}

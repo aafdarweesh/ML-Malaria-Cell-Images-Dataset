{
 "cells": [
  {
   "cell_type": "code",
   "execution_count": 55,
   "metadata": {},
   "outputs": [],
   "source": [
    "import os\n",
    "import cv2\n",
    "import tensorflow as tf\n",
    "import numpy as np # linear algebra\n",
    "import pandas as pd # data processing, CSV file I/O (e.g. pd.read_csv)\n",
    "import matplotlib.pyplot as plt\n",
    "import seaborn as sns\n",
    "\n",
    "from tensorflow.keras.datasets import cifar10\n",
    "from tensorflow.keras.preprocessing.image import ImageDataGenerator\n",
    "from tensorflow.keras.models import Sequential\n",
    "from tensorflow.keras.layers import Dense, Dropout, Activation, Flatten\n",
    "from tensorflow.keras.layers import Conv2D, MaxPooling2D\n",
    "\n",
    "from tensorflow import keras\n",
    "from tensorflow.keras import Model, Input, optimizers\n",
    "\n",
    "from PIL import Image\n",
    "\n",
    "from sklearn.utils import shuffle\n",
    "from sklearn.model_selection import train_test_split\n",
    "\n"
   ]
  },
  {
   "cell_type": "code",
   "execution_count": 19,
   "metadata": {},
   "outputs": [
    {
     "name": "stdout",
     "output_type": "stream",
     "text": [
      "['Parasitized', 'Uninfected']\n"
     ]
    }
   ],
   "source": [
    "import os\n",
    "print(os.listdir(\"./cell-images/cell_images\"))"
   ]
  },
  {
   "cell_type": "code",
   "execution_count": 20,
   "metadata": {},
   "outputs": [],
   "source": [
    "infected = os.listdir('./cell-images/cell_images/Parasitized/') \n",
    "uninfected = os.listdir('./cell-images/cell_images/Uninfected/')"
   ]
  },
  {
   "cell_type": "code",
   "execution_count": 21,
   "metadata": {},
   "outputs": [
    {
     "name": "stdout",
     "output_type": "stream",
     "text": [
      "\n",
      "\n"
     ]
    }
   ],
   "source": [
    "#retrieving the images and storing them in the arrays\n",
    "data = []\n",
    "labels = []\n",
    "\n",
    "for i in infected:\n",
    "    try:\n",
    "    \n",
    "        image = cv2.imread(\"./cell-images/cell_images/Parasitized/\"+i)\n",
    "        image_array = Image.fromarray(image , 'RGB')\n",
    "        resize_img = image_array.resize((64 , 64))\n",
    "        \n",
    "        data.append(np.array(resize_img))\n",
    "        \n",
    "        labels.append(1)\n",
    "        \n",
    "        \n",
    "    except AttributeError:\n",
    "        print('')\n",
    "    \n",
    "for u in uninfected:\n",
    "    try:\n",
    "        \n",
    "        image = cv2.imread(\"./cell-images/cell_images/Uninfected/\"+u)\n",
    "        image_array = Image.fromarray(image , 'RGB')\n",
    "        resize_img = image_array.resize((64 , 64))\n",
    "        \n",
    "        data.append(np.array(resize_img))\n",
    "        \n",
    "        labels.append(0)\n",
    "        \n",
    "    except AttributeError:\n",
    "        print('')"
   ]
  },
  {
   "cell_type": "code",
   "execution_count": 22,
   "metadata": {},
   "outputs": [
    {
     "data": {
      "text/plain": [
       "((27558, 64, 64, 3), (27558,))"
      ]
     },
     "execution_count": 22,
     "metadata": {},
     "output_type": "execute_result"
    }
   ],
   "source": [
    "cells = np.array(data)\n",
    "labels = np.array(labels)\n",
    "cells.shape,labels.shape"
   ]
  },
  {
   "cell_type": "code",
   "execution_count": 23,
   "metadata": {},
   "outputs": [],
   "source": [
    "#Shuffle the data\n",
    "cells,labels = shuffle(cells,labels)\n"
   ]
  },
  {
   "cell_type": "code",
   "execution_count": 24,
   "metadata": {},
   "outputs": [],
   "source": [
    "cells = cells.astype(\"float32\")/255\n",
    "labels = tf.keras.utils.to_categorical(labels)\n"
   ]
  },
  {
   "cell_type": "code",
   "execution_count": 25,
   "metadata": {},
   "outputs": [
    {
     "data": {
      "text/plain": [
       "((18463, 64, 64, 3), (9095, 64, 64, 3), (18463, 2), (9095, 2))"
      ]
     },
     "execution_count": 25,
     "metadata": {},
     "output_type": "execute_result"
    }
   ],
   "source": [
    "x_train,x_test,y_train,y_test = train_test_split(cells,labels,test_size=0.33,random_state=45)\n",
    "x_train.shape,x_test.shape,y_train.shape,y_test.shape"
   ]
  },
  {
   "cell_type": "code",
   "execution_count": 26,
   "metadata": {},
   "outputs": [],
   "source": [
    "input_tensor = Input(shape=x_train.shape[1:])\n",
    "\n",
    "vgg16_model = keras.applications.vgg16.VGG16(weights='imagenet', include_top=False, input_tensor=input_tensor)"
   ]
  },
  {
   "cell_type": "code",
   "execution_count": 27,
   "metadata": {},
   "outputs": [
    {
     "name": "stdout",
     "output_type": "stream",
     "text": [
      "_________________________________________________________________\n",
      "Layer (type)                 Output Shape              Param #   \n",
      "=================================================================\n",
      "input_2 (InputLayer)         (None, 64, 64, 3)         0         \n",
      "_________________________________________________________________\n",
      "block1_conv1 (Conv2D)        (None, 64, 64, 64)        1792      \n",
      "_________________________________________________________________\n",
      "block1_conv2 (Conv2D)        (None, 64, 64, 64)        36928     \n",
      "_________________________________________________________________\n",
      "block1_pool (MaxPooling2D)   (None, 32, 32, 64)        0         \n",
      "_________________________________________________________________\n",
      "block2_conv1 (Conv2D)        (None, 32, 32, 128)       73856     \n",
      "_________________________________________________________________\n",
      "block2_conv2 (Conv2D)        (None, 32, 32, 128)       147584    \n",
      "_________________________________________________________________\n",
      "block2_pool (MaxPooling2D)   (None, 16, 16, 128)       0         \n",
      "_________________________________________________________________\n",
      "block3_conv1 (Conv2D)        (None, 16, 16, 256)       295168    \n",
      "_________________________________________________________________\n",
      "block3_conv2 (Conv2D)        (None, 16, 16, 256)       590080    \n",
      "_________________________________________________________________\n",
      "block3_conv3 (Conv2D)        (None, 16, 16, 256)       590080    \n",
      "_________________________________________________________________\n",
      "block3_pool (MaxPooling2D)   (None, 8, 8, 256)         0         \n",
      "_________________________________________________________________\n",
      "block4_conv1 (Conv2D)        (None, 8, 8, 512)         1180160   \n",
      "_________________________________________________________________\n",
      "block4_conv2 (Conv2D)        (None, 8, 8, 512)         2359808   \n",
      "_________________________________________________________________\n",
      "block4_conv3 (Conv2D)        (None, 8, 8, 512)         2359808   \n",
      "_________________________________________________________________\n",
      "block4_pool (MaxPooling2D)   (None, 4, 4, 512)         0         \n",
      "_________________________________________________________________\n",
      "block5_conv1 (Conv2D)        (None, 4, 4, 512)         2359808   \n",
      "_________________________________________________________________\n",
      "block5_conv2 (Conv2D)        (None, 4, 4, 512)         2359808   \n",
      "_________________________________________________________________\n",
      "block5_conv3 (Conv2D)        (None, 4, 4, 512)         2359808   \n",
      "_________________________________________________________________\n",
      "block5_pool (MaxPooling2D)   (None, 2, 2, 512)         0         \n",
      "=================================================================\n",
      "Total params: 14,714,688\n",
      "Trainable params: 14,714,688\n",
      "Non-trainable params: 0\n",
      "_________________________________________________________________\n"
     ]
    }
   ],
   "source": [
    "vgg16_model.summary()"
   ]
  },
  {
   "cell_type": "code",
   "execution_count": 46,
   "metadata": {},
   "outputs": [],
   "source": [
    "#Create new tuned model for vgg16\n",
    "#tuned_vgg16_model = Sequential()\n",
    "\n",
    "#input layer\n",
    "#tuned_vgg16_model.add(Conv2D(64, (3, 3), input_shape=x_train.shape[1:]))\n",
    "#tuned_vgg16_model.add(Activation('relu'))\n",
    "\n",
    "last = vgg16_model.output\n",
    "x = Flatten()(last)\n",
    "preds = Dense(2, activation='softmax')(x)\n",
    "\n",
    "tuned_vgg16_model = Model(vgg16_model.input, preds)"
   ]
  },
  {
   "cell_type": "code",
   "execution_count": 47,
   "metadata": {},
   "outputs": [
    {
     "name": "stdout",
     "output_type": "stream",
     "text": [
      "_________________________________________________________________\n",
      "Layer (type)                 Output Shape              Param #   \n",
      "=================================================================\n",
      "input_2 (InputLayer)         (None, 64, 64, 3)         0         \n",
      "_________________________________________________________________\n",
      "block1_conv1 (Conv2D)        (None, 64, 64, 64)        1792      \n",
      "_________________________________________________________________\n",
      "block1_conv2 (Conv2D)        (None, 64, 64, 64)        36928     \n",
      "_________________________________________________________________\n",
      "block1_pool (MaxPooling2D)   (None, 32, 32, 64)        0         \n",
      "_________________________________________________________________\n",
      "block2_conv1 (Conv2D)        (None, 32, 32, 128)       73856     \n",
      "_________________________________________________________________\n",
      "block2_conv2 (Conv2D)        (None, 32, 32, 128)       147584    \n",
      "_________________________________________________________________\n",
      "block2_pool (MaxPooling2D)   (None, 16, 16, 128)       0         \n",
      "_________________________________________________________________\n",
      "block3_conv1 (Conv2D)        (None, 16, 16, 256)       295168    \n",
      "_________________________________________________________________\n",
      "block3_conv2 (Conv2D)        (None, 16, 16, 256)       590080    \n",
      "_________________________________________________________________\n",
      "block3_conv3 (Conv2D)        (None, 16, 16, 256)       590080    \n",
      "_________________________________________________________________\n",
      "block3_pool (MaxPooling2D)   (None, 8, 8, 256)         0         \n",
      "_________________________________________________________________\n",
      "block4_conv1 (Conv2D)        (None, 8, 8, 512)         1180160   \n",
      "_________________________________________________________________\n",
      "block4_conv2 (Conv2D)        (None, 8, 8, 512)         2359808   \n",
      "_________________________________________________________________\n",
      "block4_conv3 (Conv2D)        (None, 8, 8, 512)         2359808   \n",
      "_________________________________________________________________\n",
      "block4_pool (MaxPooling2D)   (None, 4, 4, 512)         0         \n",
      "_________________________________________________________________\n",
      "block5_conv1 (Conv2D)        (None, 4, 4, 512)         2359808   \n",
      "_________________________________________________________________\n",
      "block5_conv2 (Conv2D)        (None, 4, 4, 512)         2359808   \n",
      "_________________________________________________________________\n",
      "block5_conv3 (Conv2D)        (None, 4, 4, 512)         2359808   \n",
      "_________________________________________________________________\n",
      "block5_pool (MaxPooling2D)   (None, 2, 2, 512)         0         \n",
      "_________________________________________________________________\n",
      "flatten_2 (Flatten)          (None, 2048)              0         \n",
      "_________________________________________________________________\n",
      "dense_3 (Dense)              (None, 2)                 4098      \n",
      "=================================================================\n",
      "Total params: 14,718,786\n",
      "Trainable params: 14,718,786\n",
      "Non-trainable params: 0\n",
      "_________________________________________________________________\n"
     ]
    }
   ],
   "source": [
    "tuned_vgg16_model.summary()"
   ]
  },
  {
   "cell_type": "code",
   "execution_count": 48,
   "metadata": {},
   "outputs": [
    {
     "data": {
      "text/plain": [
       "\"\\n#vgg16_model.layers.pop(0)\\n#tuned_vgg16_model.add(layer)\\n\\n#add the vgg16 model's layers to the new tuned \\nfor layer in vgg16_model.layers:\\n    layer.trainable = False\\n    tuned_vgg16_model.add(layer)\\n    \\n#pop the prediction layer of tuned vgg16 model\\ntuned_vgg16_model.layers.pop()\\n\""
      ]
     },
     "execution_count": 48,
     "metadata": {},
     "output_type": "execute_result"
    }
   ],
   "source": [
    "'''\n",
    "#vgg16_model.layers.pop(0)\n",
    "#tuned_vgg16_model.add(layer)\n",
    "\n",
    "#add the vgg16 model's layers to the new tuned \n",
    "for layer in vgg16_model.layers:\n",
    "    layer.trainable = False\n",
    "    tuned_vgg16_model.add(layer)\n",
    "    \n",
    "#pop the prediction layer of tuned vgg16 model\n",
    "tuned_vgg16_model.layers.pop()\n",
    "'''"
   ]
  },
  {
   "cell_type": "code",
   "execution_count": 49,
   "metadata": {},
   "outputs": [],
   "source": [
    "#tuned_vgg16_model.add(Dense(2, activation='softmax'))"
   ]
  },
  {
   "cell_type": "code",
   "execution_count": 50,
   "metadata": {},
   "outputs": [],
   "source": [
    "#tuned_vgg16_model.summary()"
   ]
  },
  {
   "cell_type": "code",
   "execution_count": 52,
   "metadata": {},
   "outputs": [],
   "source": [
    "tuned_vgg16_model.compile(optimizers.Adam(lr=0.001), loss='categorical_crossentropy', metrics=['accuracy'])"
   ]
  },
  {
   "cell_type": "code",
   "execution_count": 53,
   "metadata": {},
   "outputs": [
    {
     "name": "stdout",
     "output_type": "stream",
     "text": [
      "Train on 15693 samples, validate on 2770 samples\n",
      "Epoch 1/8\n",
      "15693/15693 [==============================] - 1882s 120ms/sample - loss: 8.0318 - acc: 0.5017 - val_loss: 8.2627 - val_acc: 0.4874\n",
      "Epoch 2/8\n",
      "15693/15693 [==============================] - 1869s 119ms/sample - loss: 8.0318 - acc: 0.5017 - val_loss: 8.2627 - val_acc: 0.4874\n",
      "Epoch 3/8\n",
      "15693/15693 [==============================] - 1870s 119ms/sample - loss: 8.0318 - acc: 0.5017 - val_loss: 8.2627 - val_acc: 0.4874\n",
      "Epoch 4/8\n",
      "15693/15693 [==============================] - 1864s 119ms/sample - loss: 8.0318 - acc: 0.5017 - val_loss: 8.2627 - val_acc: 0.4874\n",
      "Epoch 5/8\n",
      "15693/15693 [==============================] - 1868s 119ms/sample - loss: 8.0318 - acc: 0.5017 - val_loss: 8.2627 - val_acc: 0.4874\n",
      "Epoch 6/8\n",
      "15693/15693 [==============================] - 1863s 119ms/sample - loss: 8.0318 - acc: 0.5017 - val_loss: 8.2627 - val_acc: 0.4874\n",
      "Epoch 7/8\n",
      "15693/15693 [==============================] - 1871s 119ms/sample - loss: 8.0318 - acc: 0.5017 - val_loss: 8.2627 - val_acc: 0.4874\n",
      "Epoch 8/8\n",
      "15693/15693 [==============================] - 1875s 119ms/sample - loss: 8.0318 - acc: 0.5017 - val_loss: 8.2627 - val_acc: 0.4874\n"
     ]
    }
   ],
   "source": [
    "history = tuned_vgg16_model.fit(x_train, y_train, batch_size=64, epochs=8, validation_split=0.15)"
   ]
  },
  {
   "cell_type": "code",
   "execution_count": 35,
   "metadata": {},
   "outputs": [
    {
     "data": {
      "text/plain": [
       "<matplotlib.legend.Legend at 0x1ca4b5f17b8>"
      ]
     },
     "execution_count": 35,
     "metadata": {},
     "output_type": "execute_result"
    },
    {
     "data": {
      "image/png": "[encoded data removed]",
      "text/plain": [
       "<Figure size 432x288 with 1 Axes>"
      ]
     },
     "metadata": {
      "needs_background": "light"
     },
     "output_type": "display_data"
    }
   ],
   "source": [
    "plt.plot(history.history['loss'],label='Loss')\n",
    "plt.plot(history.history['val_loss'],label=\"Val Loss\")\n",
    "plt.legend()"
   ]
  },
  {
   "cell_type": "code",
   "execution_count": 56,
   "metadata": {},
   "outputs": [
    {
     "name": "stdout",
     "output_type": "stream",
     "text": [
      "9095/9095 [==============================] - 235s 26ms/sample - loss: 8.0440 - acc: 0.5009\n",
      "Test Accuracy:- [8.04398413674395, 0.5009346]\n"
     ]
    }
   ],
   "source": [
    "accuracy  = tuned_vgg16_model.evaluate(x_test,y_test)\n",
    "print(\"Test Accuracy:-\",accuracy)"
   ]
  },
  {
   "cell_type": "code",
   "execution_count": null,
   "metadata": {},
   "outputs": [],
   "source": []
  }
 ],
 "metadata": {
  "kernelspec": {
   "display_name": "Python 3",
   "language": "python",
   "name": "python3"
  },
  "language_info": {
   "codemirror_mode": {
    "name": "ipython",
    "version": 3
   },
   "file_extension": ".py",
   "mimetype": "text/x-python",
   "name": "python",
   "nbconvert_exporter": "python",
   "pygments_lexer": "ipython3",
   "version": "3.7.3"
  }
 },
 "nbformat": 4,
 "nbformat_minor": 2
}
